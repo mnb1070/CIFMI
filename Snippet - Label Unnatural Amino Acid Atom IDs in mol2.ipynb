{
 "cells": [
  {
   "cell_type": "code",
   "execution_count": 1,
   "id": "b740a7c8",
   "metadata": {
    "scrolled": true
   },
   "outputs": [
    {
     "name": "stderr",
     "output_type": "stream",
     "text": [
      "1 molecule converted\n",
      "1 molecule converted\n"
     ]
    }
   ],
   "source": [
    "from rdkit import Chem\n",
    "from rdkit.Chem.Draw import MolsToGridImage\n",
    "\n",
    "#create mol2\n",
    "smi = '[NH3+][C@@H](C/C(C)=C/N(C)C)C([O-])=O'\n",
    "!obabel -:\"{smi} uaa\" -O \"./uaa.mol2\" --gen3d\n",
    "\n",
    "#rdkit editable mol2 mol\n",
    "mol = Chem.MolFromMol2File('./uaa.mol2')\n",
    "Chem.MolToPDBFile(mol, './uaa.pdb')\n",
    "mol = Chem.MolFromPDBFile('./uaa.pdb')\n",
    "mol = Chem.AddHs(mol) #H omitted in pdb\n",
    "\n",
    "smarts = Chem.MolFromSmarts(\"[OX1-]-[CX3](=[OX1])-[CX4]-[NX4+]\") #assume protonated, single OC(=O)(N)C\n",
    "anames = ['OXT', 'C', 'O', 'CA', 'N']\n",
    "mat = mol.GetSubstructMatches(smarts)[0]\n",
    "\n",
    "for i, idx in enumerate(mat): #label amino acid skeleton atoms\n",
    "    atom = mol.GetAtomWithIdx(idx)\n",
    "    atom.GetPDBResidueInfo().SetName(' ' + anames[i] + ' '*(3-len(anames[i])))\n",
    "\n",
    "h_idx = 1\n",
    "pdbi = atom.GetPDBResidueInfo() #copy of residue info\n",
    "#last atom is N\n",
    "#amino acid skeleton amine-H\n",
    "for neighbor in atom.GetNeighbors():\n",
    "    if neighbor.GetAtomicNum() != 1:\n",
    "        continue\n",
    "    name = f'H{h_idx}'\n",
    "    pdbi.SetName(' ' + name + ' '*(3-len(name)) )\n",
    "    h_idx += 1\n",
    "    neighbor.SetPDBResidueInfo(pdbi)\n",
    "    \n",
    "elem_idxs = {}\n",
    "for atom in mol.GetAtoms():\n",
    "    if not atom.GetPDBResidueInfo(): #non amino acid N skeleton Hs...\n",
    "        name = f'H{h_idx}'\n",
    "        pdbi.SetName(' ' + name + ' '*(3-len(name)) )\n",
    "        h_idx += 1\n",
    "        atom.SetPDBResidueInfo(pdbi)\n",
    "    else:\n",
    "        if atom.GetIdx() in mat:\n",
    "            continue\n",
    "        elem = ''.join([c for c in atom.GetPDBResidueInfo().GetName() if not c.isdigit() and c != ' ']) #get only char\n",
    "        if not elem_idxs.get(f'{elem}'): elem_idxs[f'{elem}'] = 0\n",
    "        elem_idxs[f'{elem}'] += 1\n",
    "        elem_idx = elem_idxs[f'{elem}']\n",
    "        name = f'{elem}{elem_idxs[f\"{elem}\"]}'\n",
    "        atom.GetPDBResidueInfo().SetName(' ' + name + ' '*(3-len(name)))\n",
    "\n",
    "Chem.MolToPDBFile(mol, \"./new_uaa.pdb\")\n",
    "cmd = f'obabel -ipdb uaa.pdb -omol2 -O new_uaa.mol2 --title uaa --gen3d'\n",
    "!{cmd}"
   ]
  },
  {
   "cell_type": "code",
   "execution_count": null,
   "id": "e5a7e3dc",
   "metadata": {},
   "outputs": [],
   "source": []
  }
 ],
 "metadata": {
  "kernelspec": {
   "display_name": "Python 3 (ipykernel)",
   "language": "python",
   "name": "python3"
  },
  "language_info": {
   "codemirror_mode": {
    "name": "ipython",
    "version": 3
   },
   "file_extension": ".py",
   "mimetype": "text/x-python",
   "name": "python",
   "nbconvert_exporter": "python",
   "pygments_lexer": "ipython3",
   "version": "3.9.13"
  }
 },
 "nbformat": 4,
 "nbformat_minor": 5
}
